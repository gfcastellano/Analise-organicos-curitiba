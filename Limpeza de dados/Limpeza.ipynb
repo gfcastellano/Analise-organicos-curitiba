{
 "cells": [
  {
   "cell_type": "code",
   "execution_count": 1,
   "metadata": {},
   "outputs": [],
   "source": [
    "import pandas as pd\n",
    "import numpy as np\n",
    "import matplotlib.pyplot as plt\n",
    "import seaborn as sns\n",
    "from pprint import pprint"
   ]
  },
  {
   "cell_type": "markdown",
   "metadata": {},
   "source": [
    "# Balaio Orgânico"
   ]
  },
  {
   "cell_type": "code",
   "execution_count": 2,
   "metadata": {},
   "outputs": [],
   "source": [
    "balaio = pd.read_json(r'C:\\Users\\Dados\\Horta_Castellano\\balaioorganico.json')"
   ]
  },
  {
   "cell_type": "code",
   "execution_count": 3,
   "metadata": {},
   "outputs": [],
   "source": [
    "#Remove the unwanted words\n",
    "remove = ['Orgânico','Orgânica']\n",
    "\n",
    "for word in remove:\n",
    "    balaio['nome']    = balaio.applymap(lambda x: str(x).replace(word,''))\n",
    "    \n",
    "#Get only the units from ['nome']\n",
    "balaio['unidade'] = ''\n",
    "balaio['unidade'] = balaio.applymap(lambda x: str(x).split(' ')[-1])\n",
    "remove = ['(',')','g']\n",
    "for char in remove:\n",
    "    balaio['unidade'] = balaio['unidade'].apply(lambda x: str(x).replace(char,''))\n",
    "\n",
    "#Discard the units from ['nome']\n",
    "separator = ' '\n",
    "balaio['nome']    = balaio.applymap(lambda x: str(x).split(' ')[:-1])\n",
    "balaio['nome']    = balaio.applymap(lambda x: separator.join(x))\n",
    "balaio['nome']    = balaio['nome'].apply(lambda x: str(x)[:-1] if str(x)[-1] == ' ' else x)\n",
    "\n",
    "#Transform the ['preco'] column to numeric'\n",
    "balaio['preco'] = balaio['preco'].apply(lambda x: str(x).replace(',','.'))\n",
    "balaio['preco'] = pd.to_numeric(balaio['preco'])\n"
   ]
  },
  {
   "cell_type": "code",
   "execution_count": 4,
   "metadata": {},
   "outputs": [
    {
     "name": "stderr",
     "output_type": "stream",
     "text": [
      "C:\\Users\\Dados\\anaconda3\\lib\\site-packages\\ipykernel_launcher.py:3: SettingWithCopyWarning: \n",
      "A value is trying to be set on a copy of a slice from a DataFrame.\n",
      "Try using .loc[row_indexer,col_indexer] = value instead\n",
      "\n",
      "See the caveats in the documentation: http://pandas.pydata.org/pandas-docs/stable/user_guide/indexing.html#returning-a-view-versus-a-copy\n",
      "  This is separate from the ipykernel package so we can avoid doing imports until\n",
      "C:\\Users\\Dados\\anaconda3\\lib\\site-packages\\ipykernel_launcher.py:4: SettingWithCopyWarning: \n",
      "A value is trying to be set on a copy of a slice from a DataFrame.\n",
      "Try using .loc[row_indexer,col_indexer] = value instead\n",
      "\n",
      "See the caveats in the documentation: http://pandas.pydata.org/pandas-docs/stable/user_guide/indexing.html#returning-a-view-versus-a-copy\n",
      "  after removing the cwd from sys.path.\n"
     ]
    }
   ],
   "source": [
    "balaio_kg = balaio.loc[balaio['unidade'].str.contains('0')]\n",
    "\n",
    "balaio_kg['preco']   = 1000 / pd.to_numeric(balaio_kg['unidade']) * pd.to_numeric(balaio_kg['preco'])\n",
    "balaio_kg['unidade'] = 'kg'"
   ]
  },
  {
   "cell_type": "code",
   "execution_count": 5,
   "metadata": {},
   "outputs": [
    {
     "name": "stderr",
     "output_type": "stream",
     "text": [
      "C:\\Users\\Dados\\anaconda3\\lib\\site-packages\\ipykernel_launcher.py:2: SettingWithCopyWarning: \n",
      "A value is trying to be set on a copy of a slice from a DataFrame.\n",
      "Try using .loc[row_indexer,col_indexer] = value instead\n",
      "\n",
      "See the caveats in the documentation: http://pandas.pydata.org/pandas-docs/stable/user_guide/indexing.html#returning-a-view-versus-a-copy\n",
      "  \n"
     ]
    }
   ],
   "source": [
    "balaio_kg_2 = balaio.loc[balaio.unidade == 'k']\n",
    "balaio_kg_2['unidade'] = 'kg'"
   ]
  },
  {
   "cell_type": "code",
   "execution_count": 6,
   "metadata": {},
   "outputs": [
    {
     "name": "stderr",
     "output_type": "stream",
     "text": [
      "C:\\Users\\Dados\\anaconda3\\lib\\site-packages\\ipykernel_launcher.py:2: SettingWithCopyWarning: \n",
      "A value is trying to be set on a copy of a slice from a DataFrame.\n",
      "Try using .loc[row_indexer,col_indexer] = value instead\n",
      "\n",
      "See the caveats in the documentation: http://pandas.pydata.org/pandas-docs/stable/user_guide/indexing.html#returning-a-view-versus-a-copy\n",
      "  \n"
     ]
    }
   ],
   "source": [
    "balaio_unidade = balaio.loc[balaio.unidade == '']\n",
    "balaio_unidade['unidade'] = 'unidade'"
   ]
  },
  {
   "cell_type": "code",
   "execution_count": 7,
   "metadata": {},
   "outputs": [],
   "source": [
    "balaio_limpo = balaio_kg.append(balaio_kg_2).append(balaio_unidade)"
   ]
  },
  {
   "cell_type": "code",
   "execution_count": 8,
   "metadata": {},
   "outputs": [],
   "source": [
    "balaio_limpo.sort_index().to_csv('balaio.csv',index=False)"
   ]
  },
  {
   "cell_type": "markdown",
   "metadata": {},
   "source": [
    "# Boutique de Orgânicos"
   ]
  },
  {
   "cell_type": "code",
   "execution_count": 9,
   "metadata": {},
   "outputs": [],
   "source": [
    "boutique = pd.read_json(r'C:\\Users\\Dados\\Horta_Castellano\\boutiquedeorganicos.json')"
   ]
  },
  {
   "cell_type": "code",
   "execution_count": 10,
   "metadata": {},
   "outputs": [],
   "source": [
    "# Adjusting the ['preco'] column\n",
    "boutique['preco'] = boutique['preco'].apply(lambda x: str(x).replace('R$',''))\n",
    "boutique['preco'] = boutique['preco'].apply(lambda x: str(x).replace(',','.'))\n",
    "\n",
    "\n",
    "boutique['nome']    = boutique['nome'].apply(lambda x: str(x)[:-1] if str(x)[-1] == ' ' else x)"
   ]
  },
  {
   "cell_type": "code",
   "execution_count": 11,
   "metadata": {},
   "outputs": [
    {
     "name": "stderr",
     "output_type": "stream",
     "text": [
      "C:\\Users\\Dados\\anaconda3\\lib\\site-packages\\ipykernel_launcher.py:4: SettingWithCopyWarning: \n",
      "A value is trying to be set on a copy of a slice from a DataFrame.\n",
      "Try using .loc[row_indexer,col_indexer] = value instead\n",
      "\n",
      "See the caveats in the documentation: http://pandas.pydata.org/pandas-docs/stable/user_guide/indexing.html#returning-a-view-versus-a-copy\n",
      "  after removing the cwd from sys.path.\n",
      "C:\\Users\\Dados\\anaconda3\\lib\\site-packages\\ipykernel_launcher.py:6: SettingWithCopyWarning: \n",
      "A value is trying to be set on a copy of a slice from a DataFrame.\n",
      "Try using .loc[row_indexer,col_indexer] = value instead\n",
      "\n",
      "See the caveats in the documentation: http://pandas.pydata.org/pandas-docs/stable/user_guide/indexing.html#returning-a-view-versus-a-copy\n",
      "  \n",
      "C:\\Users\\Dados\\anaconda3\\lib\\site-packages\\ipykernel_launcher.py:7: SettingWithCopyWarning: \n",
      "A value is trying to be set on a copy of a slice from a DataFrame.\n",
      "Try using .loc[row_indexer,col_indexer] = value instead\n",
      "\n",
      "See the caveats in the documentation: http://pandas.pydata.org/pandas-docs/stable/user_guide/indexing.html#returning-a-view-versus-a-copy\n",
      "  import sys\n"
     ]
    }
   ],
   "source": [
    "boutique_kg = boutique.loc[boutique['unidade'].str.contains('0')]\n",
    "\n",
    "for char in ['/','gramas']:\n",
    "    boutique_kg['unidade'] = boutique_kg['unidade'].apply(lambda x: str(x).replace(char,''))\n",
    "    \n",
    "boutique_kg['preco']   = 1000 / pd.to_numeric(boutique_kg['unidade']) * pd.to_numeric(boutique_kg['preco'])\n",
    "boutique_kg['unidade'] = 'kg'"
   ]
  },
  {
   "cell_type": "code",
   "execution_count": 12,
   "metadata": {},
   "outputs": [
    {
     "name": "stderr",
     "output_type": "stream",
     "text": [
      "C:\\Users\\Dados\\anaconda3\\lib\\site-packages\\ipykernel_launcher.py:3: SettingWithCopyWarning: \n",
      "A value is trying to be set on a copy of a slice from a DataFrame.\n",
      "Try using .loc[row_indexer,col_indexer] = value instead\n",
      "\n",
      "See the caveats in the documentation: http://pandas.pydata.org/pandas-docs/stable/user_guide/indexing.html#returning-a-view-versus-a-copy\n",
      "  This is separate from the ipykernel package so we can avoid doing imports until\n"
     ]
    }
   ],
   "source": [
    "boutique_kg_2 = boutique.loc[boutique['unidade'].str.contains('K')]\n",
    "\n",
    "boutique_kg_2['unidade'] = 'kg'"
   ]
  },
  {
   "cell_type": "code",
   "execution_count": 13,
   "metadata": {},
   "outputs": [
    {
     "name": "stderr",
     "output_type": "stream",
     "text": [
      "C:\\Users\\Dados\\anaconda3\\lib\\site-packages\\ipykernel_launcher.py:3: SettingWithCopyWarning: \n",
      "A value is trying to be set on a copy of a slice from a DataFrame.\n",
      "Try using .loc[row_indexer,col_indexer] = value instead\n",
      "\n",
      "See the caveats in the documentation: http://pandas.pydata.org/pandas-docs/stable/user_guide/indexing.html#returning-a-view-versus-a-copy\n",
      "  This is separate from the ipykernel package so we can avoid doing imports until\n"
     ]
    }
   ],
   "source": [
    "boutique_unidade = boutique[(~boutique.index.isin(boutique_kg.index)) & (~boutique.index.isin(boutique_kg_2.index))]\n",
    "\n",
    "boutique_unidade['unidade'] = 'unidade'"
   ]
  },
  {
   "cell_type": "code",
   "execution_count": 14,
   "metadata": {},
   "outputs": [],
   "source": [
    "boutique_limpo = boutique_unidade.append(boutique_kg).append(boutique_kg_2)\n",
    "boutique_limpo.sort_index(inplace=True)\n",
    "boutique_limpo.to_csv('boutique.csv', index=False)"
   ]
  },
  {
   "cell_type": "markdown",
   "metadata": {},
   "source": [
    "# Casa do Verdureiro"
   ]
  },
  {
   "cell_type": "code",
   "execution_count": 15,
   "metadata": {},
   "outputs": [],
   "source": [
    "casa = pd.read_json(r'C:\\Users\\Dados\\Horta_Castellano\\casadoverdureiro.json')"
   ]
  },
  {
   "cell_type": "code",
   "execution_count": 16,
   "metadata": {},
   "outputs": [],
   "source": [
    "casa['nome'] = casa['nome'].apply(lambda x: str(x).replace(' – Casa do Verdureiro',''))\n",
    "casa['nome'] = casa['nome'].apply(lambda x: str(x).replace(' – Yanti',''))"
   ]
  },
  {
   "cell_type": "code",
   "execution_count": 17,
   "metadata": {},
   "outputs": [],
   "source": [
    "casa['nome'][17] = 'Cabotiá Orgânica Un'\n",
    "casa['nome'][39] = 'Mamão Formosa Orgânico Un'\n",
    "casa['nome'][51] = 'Melão Orgânico Un'"
   ]
  },
  {
   "cell_type": "code",
   "execution_count": 18,
   "metadata": {},
   "outputs": [],
   "source": [
    "#Remove the unwanted words\n",
    "remove = ['Orgânico','Orgânica']\n",
    "\n",
    "for word in remove:\n",
    "    casa['nome']    = casa.applymap(lambda x: str(x).replace(word,''))\n",
    "\n",
    "# Create the ['unidade'] column\n",
    "casa['unidade'] = casa['nome'].apply(lambda x: str(x).split(' ')[-1])\n",
    "\n",
    "#Discard the units from ['nome']\n",
    "separator = ' '\n",
    "casa['nome']    = casa.applymap(lambda x: str(x).split(' ')[:-1])\n",
    "casa['nome']    = casa.applymap(lambda x: separator.join(x))\n",
    "casa['nome']    = casa['nome'].apply(lambda x: str(x)[:-1] if str(x)[-1] == ' ' else x)\n",
    "\n",
    "# Adjusting the ['preco'] column\n",
    "casa['preco'] = casa['preco'].apply(lambda x: str(x).replace('R$',''))\n",
    "casa['preco'] = casa['preco'].apply(lambda x: str(x).replace(',','.'))"
   ]
  },
  {
   "cell_type": "code",
   "execution_count": 19,
   "metadata": {},
   "outputs": [
    {
     "name": "stderr",
     "output_type": "stream",
     "text": [
      "C:\\Users\\Dados\\anaconda3\\lib\\site-packages\\ipykernel_launcher.py:4: SettingWithCopyWarning: \n",
      "A value is trying to be set on a copy of a slice from a DataFrame.\n",
      "Try using .loc[row_indexer,col_indexer] = value instead\n",
      "\n",
      "See the caveats in the documentation: http://pandas.pydata.org/pandas-docs/stable/user_guide/indexing.html#returning-a-view-versus-a-copy\n",
      "  after removing the cwd from sys.path.\n",
      "C:\\Users\\Dados\\anaconda3\\lib\\site-packages\\ipykernel_launcher.py:6: SettingWithCopyWarning: \n",
      "A value is trying to be set on a copy of a slice from a DataFrame.\n",
      "Try using .loc[row_indexer,col_indexer] = value instead\n",
      "\n",
      "See the caveats in the documentation: http://pandas.pydata.org/pandas-docs/stable/user_guide/indexing.html#returning-a-view-versus-a-copy\n",
      "  \n",
      "C:\\Users\\Dados\\anaconda3\\lib\\site-packages\\ipykernel_launcher.py:7: SettingWithCopyWarning: \n",
      "A value is trying to be set on a copy of a slice from a DataFrame.\n",
      "Try using .loc[row_indexer,col_indexer] = value instead\n",
      "\n",
      "See the caveats in the documentation: http://pandas.pydata.org/pandas-docs/stable/user_guide/indexing.html#returning-a-view-versus-a-copy\n",
      "  import sys\n"
     ]
    }
   ],
   "source": [
    "casa_kg = casa.loc[casa['unidade'].str.contains('0')]\n",
    "\n",
    "for char in ['G','g']:\n",
    "    casa_kg['unidade'] = casa_kg['unidade'].apply(lambda x: str(x).replace(char,''))\n",
    "    \n",
    "casa_kg['preco']   = 1000 / pd.to_numeric(casa_kg['unidade']) * pd.to_numeric(casa_kg['preco'])\n",
    "casa_kg['unidade'] = 'kg'"
   ]
  },
  {
   "cell_type": "code",
   "execution_count": 20,
   "metadata": {},
   "outputs": [
    {
     "name": "stderr",
     "output_type": "stream",
     "text": [
      "C:\\Users\\Dados\\anaconda3\\lib\\site-packages\\ipykernel_launcher.py:3: SettingWithCopyWarning: \n",
      "A value is trying to be set on a copy of a slice from a DataFrame.\n",
      "Try using .loc[row_indexer,col_indexer] = value instead\n",
      "\n",
      "See the caveats in the documentation: http://pandas.pydata.org/pandas-docs/stable/user_guide/indexing.html#returning-a-view-versus-a-copy\n",
      "  This is separate from the ipykernel package so we can avoid doing imports until\n",
      "C:\\Users\\Dados\\anaconda3\\lib\\site-packages\\ipykernel_launcher.py:5: SettingWithCopyWarning: \n",
      "A value is trying to be set on a copy of a slice from a DataFrame.\n",
      "Try using .loc[row_indexer,col_indexer] = value instead\n",
      "\n",
      "See the caveats in the documentation: http://pandas.pydata.org/pandas-docs/stable/user_guide/indexing.html#returning-a-view-versus-a-copy\n",
      "  \"\"\"\n"
     ]
    }
   ],
   "source": [
    "casa_kg_2 = casa.loc[casa['unidade'].str.contains('k')]\n",
    "\n",
    "casa_kg_2['unidade'] = 'kg'\n",
    "\n",
    "casa_kg_2['nome'] = casa_kg_2['nome'].apply(lambda x: str(x).replace(' 1',''))"
   ]
  },
  {
   "cell_type": "code",
   "execution_count": 21,
   "metadata": {},
   "outputs": [
    {
     "name": "stderr",
     "output_type": "stream",
     "text": [
      "C:\\Users\\Dados\\anaconda3\\lib\\site-packages\\ipykernel_launcher.py:3: SettingWithCopyWarning: \n",
      "A value is trying to be set on a copy of a slice from a DataFrame.\n",
      "Try using .loc[row_indexer,col_indexer] = value instead\n",
      "\n",
      "See the caveats in the documentation: http://pandas.pydata.org/pandas-docs/stable/user_guide/indexing.html#returning-a-view-versus-a-copy\n",
      "  This is separate from the ipykernel package so we can avoid doing imports until\n"
     ]
    }
   ],
   "source": [
    "casa_unidade = casa[(~casa.index.isin(casa_kg.index)) & (~casa.index.isin(casa_kg_2.index))]\n",
    "\n",
    "casa_unidade['unidade'] = 'unidade'"
   ]
  },
  {
   "cell_type": "code",
   "execution_count": 22,
   "metadata": {},
   "outputs": [],
   "source": [
    "casa_limpo = casa_unidade.append(casa_kg).append(casa_kg_2)\n",
    "casa_limpo.sort_index(inplace=True)\n",
    "casa_limpo.to_csv('casa.csv', index=False)"
   ]
  },
  {
   "cell_type": "markdown",
   "metadata": {},
   "source": [
    "# Cesta Delivery"
   ]
  },
  {
   "cell_type": "code",
   "execution_count": 23,
   "metadata": {},
   "outputs": [],
   "source": [
    "cesta = pd.read_json(r'C:\\Users\\Dados\\Horta_Castellano\\cestadelivery.json')"
   ]
  },
  {
   "cell_type": "code",
   "execution_count": 24,
   "metadata": {},
   "outputs": [],
   "source": [
    "#Remove the unwanted words\n",
    "remove = ['Orgânico','Orgânica','Organico','Organica','orgânico','orgânica','organico','organica']\n",
    "\n",
    "for word in remove:\n",
    "    cesta['nome']    = cesta.applymap(lambda x: str(x).replace(word,''))\n",
    "\n",
    "# Create the ['unidade'] column\n",
    "cesta['unidade'] = cesta['nome'].apply(lambda x: str(x).split(' ')[-1])\n",
    "\n",
    "#Discard the units from ['nome']\n",
    "separator = ' '\n",
    "cesta['nome']    = cesta['nome'].apply(lambda x: str(x).split(' ')[:-1])\n",
    "cesta['nome']    = cesta['nome'].apply(lambda x: separator.join(x))\n",
    "cesta['nome']    = cesta['nome'].apply(lambda x: str(x)[:-1] if str(x)[-1] == ' ' else x)\n",
    "\n",
    "# Adjusting the ['preco'] column\n",
    "cesta['preco'] = cesta['preco'].apply(lambda x: str(x).replace('R$',''))\n",
    "cesta['preco'] = cesta['preco'].apply(lambda x: str(x).replace(',','.'))"
   ]
  },
  {
   "cell_type": "code",
   "execution_count": 25,
   "metadata": {},
   "outputs": [],
   "source": [
    "cesta['unidade'][26] = '1/2kg'\n",
    "cesta['unidade'][32] = '250gramas'\n",
    "\n",
    "cesta['nome'][26] = 'Limão rosa'\n",
    "cesta['nome'][32] = 'Morango'"
   ]
  },
  {
   "cell_type": "code",
   "execution_count": 26,
   "metadata": {},
   "outputs": [
    {
     "name": "stderr",
     "output_type": "stream",
     "text": [
      "C:\\Users\\Dados\\anaconda3\\lib\\site-packages\\ipykernel_launcher.py:4: SettingWithCopyWarning: \n",
      "A value is trying to be set on a copy of a slice from a DataFrame.\n",
      "Try using .loc[row_indexer,col_indexer] = value instead\n",
      "\n",
      "See the caveats in the documentation: http://pandas.pydata.org/pandas-docs/stable/user_guide/indexing.html#returning-a-view-versus-a-copy\n",
      "  after removing the cwd from sys.path.\n",
      "C:\\Users\\Dados\\anaconda3\\lib\\site-packages\\ipykernel_launcher.py:6: SettingWithCopyWarning: \n",
      "A value is trying to be set on a copy of a slice from a DataFrame.\n",
      "Try using .loc[row_indexer,col_indexer] = value instead\n",
      "\n",
      "See the caveats in the documentation: http://pandas.pydata.org/pandas-docs/stable/user_guide/indexing.html#returning-a-view-versus-a-copy\n",
      "  \n",
      "C:\\Users\\Dados\\anaconda3\\lib\\site-packages\\ipykernel_launcher.py:7: SettingWithCopyWarning: \n",
      "A value is trying to be set on a copy of a slice from a DataFrame.\n",
      "Try using .loc[row_indexer,col_indexer] = value instead\n",
      "\n",
      "See the caveats in the documentation: http://pandas.pydata.org/pandas-docs/stable/user_guide/indexing.html#returning-a-view-versus-a-copy\n",
      "  import sys\n"
     ]
    }
   ],
   "source": [
    "cesta_kg = cesta.loc[cesta['unidade'].str.contains('0')]\n",
    "\n",
    "for char in ['(',')','gramas','gr','o']:\n",
    "    cesta_kg['unidade'] = cesta_kg['unidade'].apply(lambda x: str(x).replace(char,''))\n",
    "    \n",
    "cesta_kg['preco']   = 1000 / pd.to_numeric(cesta_kg['unidade']) * pd.to_numeric(cesta_kg['preco'])\n",
    "cesta_kg['unidade'] = 'kg'"
   ]
  },
  {
   "cell_type": "code",
   "execution_count": 27,
   "metadata": {},
   "outputs": [
    {
     "name": "stderr",
     "output_type": "stream",
     "text": [
      "C:\\Users\\Dados\\anaconda3\\lib\\site-packages\\ipykernel_launcher.py:3: SettingWithCopyWarning: \n",
      "A value is trying to be set on a copy of a slice from a DataFrame.\n",
      "Try using .loc[row_indexer,col_indexer] = value instead\n",
      "\n",
      "See the caveats in the documentation: http://pandas.pydata.org/pandas-docs/stable/user_guide/indexing.html#returning-a-view-versus-a-copy\n",
      "  This is separate from the ipykernel package so we can avoid doing imports until\n"
     ]
    }
   ],
   "source": [
    "cesta_kg_2 = cesta.loc[(cesta['unidade'].str.contains('K')) | (cesta['unidade'].str.contains('k'))]\n",
    "\n",
    "cesta_kg_2['unidade'] = 'kg'"
   ]
  },
  {
   "cell_type": "code",
   "execution_count": 28,
   "metadata": {},
   "outputs": [
    {
     "name": "stderr",
     "output_type": "stream",
     "text": [
      "C:\\Users\\Dados\\anaconda3\\lib\\site-packages\\ipykernel_launcher.py:3: SettingWithCopyWarning: \n",
      "A value is trying to be set on a copy of a slice from a DataFrame.\n",
      "Try using .loc[row_indexer,col_indexer] = value instead\n",
      "\n",
      "See the caveats in the documentation: http://pandas.pydata.org/pandas-docs/stable/user_guide/indexing.html#returning-a-view-versus-a-copy\n",
      "  This is separate from the ipykernel package so we can avoid doing imports until\n"
     ]
    }
   ],
   "source": [
    "cesta_unidade = cesta[(~cesta.index.isin(cesta_kg.index)) & (~cesta.index.isin(cesta_kg_2.index))]\n",
    "\n",
    "cesta_unidade['unidade'] = 'unidade'"
   ]
  },
  {
   "cell_type": "code",
   "execution_count": 29,
   "metadata": {},
   "outputs": [],
   "source": [
    "cesta_limpo = cesta_unidade.append(cesta_kg).append(cesta_kg_2)\n",
    "cesta_limpo.sort_index(inplace= True)\n",
    "cesta_limpo.to_csv('cesta.csv', index=False)"
   ]
  },
  {
   "cell_type": "markdown",
   "metadata": {},
   "source": [
    "# Chacara 3 Corregos"
   ]
  },
  {
   "cell_type": "code",
   "execution_count": 30,
   "metadata": {},
   "outputs": [],
   "source": [
    "corregos = pd.read_json(r'C:\\Users\\Dados\\Horta_Castellano\\chacara3corregos.json')"
   ]
  },
  {
   "cell_type": "code",
   "execution_count": 31,
   "metadata": {},
   "outputs": [],
   "source": [
    "#Remove the unwanted words\n",
    "remove = ['Orgânico','Orgânica','Organico','Organica','orgânico','orgânica','organico','organica']\n",
    "\n",
    "for word in remove:\n",
    "    corregos['nome']    = corregos.applymap(lambda x: str(x).replace(word,''))\n",
    "\n",
    "#Get the ['unidade'] column\n",
    "def find_between(s, start, end):\n",
    "    return (s.split(start))[1].split(end)[0]\n",
    "\n",
    "corregos['unidade'] = corregos['nome'].apply(lambda x: find_between(x,'(',')'))\n",
    "\n",
    "#Discard the units from ['nome']\n",
    "separator = ' '\n",
    "corregos['nome']    = corregos['nome'].apply(lambda x: str(x).split(' (')[0])\n",
    "corregos['nome']    = corregos['nome'].apply(lambda x: str(x)[:-1] if str(x)[-1] == ' ' else x)\n",
    "\n",
    "# Adjusting the ['preco'] column\n",
    "corregos['preco'] = corregos['preco'].apply(lambda x: str(x).replace('R$',''))\n",
    "corregos['preco'] = corregos['preco'].apply(lambda x: str(x).replace(',','.'))"
   ]
  },
  {
   "cell_type": "code",
   "execution_count": 32,
   "metadata": {},
   "outputs": [
    {
     "name": "stderr",
     "output_type": "stream",
     "text": [
      "C:\\Users\\Dados\\anaconda3\\lib\\site-packages\\IPython\\core\\interactiveshell.py:3331: SettingWithCopyWarning: \n",
      "A value is trying to be set on a copy of a slice from a DataFrame\n",
      "\n",
      "See the caveats in the documentation: http://pandas.pydata.org/pandas-docs/stable/user_guide/indexing.html#returning-a-view-versus-a-copy\n",
      "  exec(code_obj, self.user_global_ns, self.user_ns)\n",
      "C:\\Users\\Dados\\anaconda3\\lib\\site-packages\\ipykernel_launcher.py:5: SettingWithCopyWarning: \n",
      "A value is trying to be set on a copy of a slice from a DataFrame.\n",
      "Try using .loc[row_indexer,col_indexer] = value instead\n",
      "\n",
      "See the caveats in the documentation: http://pandas.pydata.org/pandas-docs/stable/user_guide/indexing.html#returning-a-view-versus-a-copy\n",
      "  \"\"\"\n",
      "C:\\Users\\Dados\\anaconda3\\lib\\site-packages\\ipykernel_launcher.py:7: SettingWithCopyWarning: \n",
      "A value is trying to be set on a copy of a slice from a DataFrame.\n",
      "Try using .loc[row_indexer,col_indexer] = value instead\n",
      "\n",
      "See the caveats in the documentation: http://pandas.pydata.org/pandas-docs/stable/user_guide/indexing.html#returning-a-view-versus-a-copy\n",
      "  import sys\n",
      "C:\\Users\\Dados\\anaconda3\\lib\\site-packages\\ipykernel_launcher.py:8: SettingWithCopyWarning: \n",
      "A value is trying to be set on a copy of a slice from a DataFrame.\n",
      "Try using .loc[row_indexer,col_indexer] = value instead\n",
      "\n",
      "See the caveats in the documentation: http://pandas.pydata.org/pandas-docs/stable/user_guide/indexing.html#returning-a-view-versus-a-copy\n",
      "  \n"
     ]
    }
   ],
   "source": [
    "corregos_kg = corregos.loc[corregos['unidade'].str.contains('0')]\n",
    "corregos_kg['unidade'][20] = '500g'\n",
    "\n",
    "for char in ['(',')','gramas','gr','o','g']:\n",
    "    corregos_kg['unidade'] = corregos_kg['unidade'].apply(lambda x: str(x).replace(char,''))\n",
    "    \n",
    "corregos_kg['preco']   = 1000 / pd.to_numeric(corregos_kg['unidade']) * pd.to_numeric(corregos_kg['preco'])\n",
    "corregos_kg['unidade'] = 'kg'"
   ]
  },
  {
   "cell_type": "code",
   "execution_count": 33,
   "metadata": {},
   "outputs": [
    {
     "name": "stderr",
     "output_type": "stream",
     "text": [
      "C:\\Users\\Dados\\anaconda3\\lib\\site-packages\\ipykernel_launcher.py:3: SettingWithCopyWarning: \n",
      "A value is trying to be set on a copy of a slice from a DataFrame.\n",
      "Try using .loc[row_indexer,col_indexer] = value instead\n",
      "\n",
      "See the caveats in the documentation: http://pandas.pydata.org/pandas-docs/stable/user_guide/indexing.html#returning-a-view-versus-a-copy\n",
      "  This is separate from the ipykernel package so we can avoid doing imports until\n"
     ]
    }
   ],
   "source": [
    "corregos_kg_2 = corregos.loc[(corregos['unidade'].str.contains('K')) | (corregos['unidade'].str.contains('k'))]\n",
    "\n",
    "corregos_kg_2['unidade'] = 'kg'"
   ]
  },
  {
   "cell_type": "code",
   "execution_count": 34,
   "metadata": {},
   "outputs": [
    {
     "name": "stderr",
     "output_type": "stream",
     "text": [
      "C:\\Users\\Dados\\anaconda3\\lib\\site-packages\\ipykernel_launcher.py:3: SettingWithCopyWarning: \n",
      "A value is trying to be set on a copy of a slice from a DataFrame.\n",
      "Try using .loc[row_indexer,col_indexer] = value instead\n",
      "\n",
      "See the caveats in the documentation: http://pandas.pydata.org/pandas-docs/stable/user_guide/indexing.html#returning-a-view-versus-a-copy\n",
      "  This is separate from the ipykernel package so we can avoid doing imports until\n"
     ]
    }
   ],
   "source": [
    "corregos_unidade = corregos[(~corregos.index.isin(corregos_kg.index)) & (~corregos.index.isin(corregos_kg_2.index))]\n",
    "\n",
    "corregos_unidade['unidade'] = 'unidade'"
   ]
  },
  {
   "cell_type": "code",
   "execution_count": 35,
   "metadata": {},
   "outputs": [],
   "source": [
    "corregos_limpo = corregos_unidade.append(corregos_kg).append(corregos_kg_2)\n",
    "corregos_limpo.sort_index(inplace= True)\n",
    "corregos_limpo.to_csv('corregos.csv', index=False)"
   ]
  },
  {
   "cell_type": "markdown",
   "metadata": {},
   "source": [
    "# Chácara Strapasson"
   ]
  },
  {
   "cell_type": "code",
   "execution_count": 36,
   "metadata": {},
   "outputs": [],
   "source": [
    "strapasson = pd.read_json(r'C:\\Users\\Dados\\Horta_Castellano\\chacarastrapasson.json')"
   ]
  },
  {
   "cell_type": "code",
   "execution_count": 37,
   "metadata": {},
   "outputs": [],
   "source": [
    "# Remove products not wanted\n",
    "drop = strapasson.loc[strapasson.nome.str.contains('Cesta')]\n",
    "strapasson = strapasson[~strapasson.isin(drop)].dropna().reset_index(drop=True)"
   ]
  },
  {
   "cell_type": "code",
   "execution_count": 38,
   "metadata": {},
   "outputs": [],
   "source": [
    "#Remove the unwanted words\n",
    "remove = ['Orgânico','Orgânica','Organico','Organica','orgânico','orgânica','organico','organica','ORGÂNICO','ORGÂNICA','ORGANICO','ORGANICA']\n",
    "\n",
    "for word in remove:\n",
    "    strapasson['nome']    = strapasson.applymap(lambda x: str(x).replace(word,''))\n",
    "\n",
    "#Get the ['unidade'] column\n",
    "strapasson['unidade'] = ''\n",
    "strapasson['unidade'] = strapasson['nome'].apply(lambda x: str(x).split('– ')[-1])\n",
    "\n",
    "#Discard the units from ['nome']\n",
    "separator = ' '\n",
    "strapasson['nome']    = strapasson['nome'].apply(lambda x: str(x).split(' – ')[0])\n",
    "strapasson['nome']    = strapasson['nome'].apply(lambda x: str(x)[:-1] if str(x)[-1] == ' ' else x)\n",
    "\n",
    "# Adjusting the ['preco'] column\n",
    "strapasson['preco'] = strapasson['preco'].apply(lambda x: str(x).replace('R$',''))\n",
    "strapasson['preco'] = strapasson['preco'].apply(lambda x: str(x).replace(',','.'))"
   ]
  },
  {
   "cell_type": "code",
   "execution_count": 39,
   "metadata": {},
   "outputs": [
    {
     "name": "stderr",
     "output_type": "stream",
     "text": [
      "C:\\Users\\Dados\\anaconda3\\lib\\site-packages\\ipykernel_launcher.py:4: SettingWithCopyWarning: \n",
      "A value is trying to be set on a copy of a slice from a DataFrame.\n",
      "Try using .loc[row_indexer,col_indexer] = value instead\n",
      "\n",
      "See the caveats in the documentation: http://pandas.pydata.org/pandas-docs/stable/user_guide/indexing.html#returning-a-view-versus-a-copy\n",
      "  after removing the cwd from sys.path.\n",
      "C:\\Users\\Dados\\anaconda3\\lib\\site-packages\\ipykernel_launcher.py:6: SettingWithCopyWarning: \n",
      "A value is trying to be set on a copy of a slice from a DataFrame.\n",
      "Try using .loc[row_indexer,col_indexer] = value instead\n",
      "\n",
      "See the caveats in the documentation: http://pandas.pydata.org/pandas-docs/stable/user_guide/indexing.html#returning-a-view-versus-a-copy\n",
      "  \n",
      "C:\\Users\\Dados\\anaconda3\\lib\\site-packages\\ipykernel_launcher.py:7: SettingWithCopyWarning: \n",
      "A value is trying to be set on a copy of a slice from a DataFrame.\n",
      "Try using .loc[row_indexer,col_indexer] = value instead\n",
      "\n",
      "See the caveats in the documentation: http://pandas.pydata.org/pandas-docs/stable/user_guide/indexing.html#returning-a-view-versus-a-copy\n",
      "  import sys\n"
     ]
    }
   ],
   "source": [
    "strapasson_kg = strapasson.loc[strapasson['unidade'].str.contains('0')]\n",
    "\n",
    "for char in ['SALADA MIX VERDE COM ACOMPANHAMENTOS- ',' COM ACOMPANHAMENTOS','BANDEJA COM ','BANDEJA ','G','g']:\n",
    "    strapasson_kg['unidade'] = strapasson_kg['unidade'].apply(lambda x: str(x).replace(char,''))\n",
    "    \n",
    "strapasson_kg['preco']   = 1000 / pd.to_numeric(strapasson_kg['unidade']) * pd.to_numeric(strapasson_kg['preco'])\n",
    "strapasson_kg['unidade'] = 'kg'"
   ]
  },
  {
   "cell_type": "code",
   "execution_count": 40,
   "metadata": {},
   "outputs": [
    {
     "name": "stderr",
     "output_type": "stream",
     "text": [
      "C:\\Users\\Dados\\anaconda3\\lib\\site-packages\\ipykernel_launcher.py:3: SettingWithCopyWarning: \n",
      "A value is trying to be set on a copy of a slice from a DataFrame.\n",
      "Try using .loc[row_indexer,col_indexer] = value instead\n",
      "\n",
      "See the caveats in the documentation: http://pandas.pydata.org/pandas-docs/stable/user_guide/indexing.html#returning-a-view-versus-a-copy\n",
      "  This is separate from the ipykernel package so we can avoid doing imports until\n"
     ]
    }
   ],
   "source": [
    "strapasson_kg_2 = strapasson.loc[(strapasson['unidade'].str.contains('K')) | (strapasson['unidade'].str.contains('k'))]\n",
    "\n",
    "strapasson_kg_2['unidade'] = 'kg'"
   ]
  },
  {
   "cell_type": "code",
   "execution_count": 41,
   "metadata": {},
   "outputs": [
    {
     "name": "stderr",
     "output_type": "stream",
     "text": [
      "C:\\Users\\Dados\\anaconda3\\lib\\site-packages\\ipykernel_launcher.py:3: SettingWithCopyWarning: \n",
      "A value is trying to be set on a copy of a slice from a DataFrame.\n",
      "Try using .loc[row_indexer,col_indexer] = value instead\n",
      "\n",
      "See the caveats in the documentation: http://pandas.pydata.org/pandas-docs/stable/user_guide/indexing.html#returning-a-view-versus-a-copy\n",
      "  This is separate from the ipykernel package so we can avoid doing imports until\n"
     ]
    }
   ],
   "source": [
    "strapasson_unidade = strapasson[(~strapasson.index.isin(strapasson_kg.index)) & (~strapasson.index.isin(strapasson_kg_2.index))]\n",
    "\n",
    "strapasson_unidade['unidade'] = 'unidade'"
   ]
  },
  {
   "cell_type": "code",
   "execution_count": 42,
   "metadata": {},
   "outputs": [],
   "source": [
    "strapasson_limpo = strapasson_unidade.append(strapasson_kg).append(strapasson_kg_2)\n",
    "strapasson_limpo.sort_index(inplace= True)\n",
    "strapasson_limpo.to_csv('strapasson.csv', index=False)"
   ]
  },
  {
   "cell_type": "markdown",
   "metadata": {},
   "source": [
    "# Natureza Pura"
   ]
  },
  {
   "cell_type": "code",
   "execution_count": 43,
   "metadata": {},
   "outputs": [],
   "source": [
    "natureza = pd.read_json(r'C:\\Users\\Dados\\Horta_Castellano\\naturezapura.json')"
   ]
  },
  {
   "cell_type": "code",
   "execution_count": 44,
   "metadata": {},
   "outputs": [],
   "source": [
    "#Remove the unwanted words\n",
    "remove = ['Orgânico','Orgânica','Organico','Organica','orgânico','orgânica','organico','organica','ORGÂNICO','ORGÂNICA','ORGANICO','ORGANICA']\n",
    "\n",
    "for word in remove:\n",
    "    natureza['nome']    = natureza.applymap(lambda x: str(x).replace(word,''))\n",
    "\n",
    "#Get the ['unidade'] column\n",
    "def find_between(s, start, end):\n",
    "    try:\n",
    "        return (s.split(start))[1].split(end)[0]\n",
    "    except:\n",
    "        return s\n",
    "\n",
    "natureza['unidade'] = natureza['nome'].apply(lambda x: find_between(x,'(',')'))\n",
    "\n",
    "#Discard the units from ['nome']\n",
    "separator = ' '\n",
    "natureza['nome']    = natureza['nome'].apply(lambda x: str(x).split(' (')[0])\n",
    "natureza['nome']    = natureza['nome'].apply(lambda x: str(x)[:-1] if str(x)[-1] == ' ' else x)\n",
    "\n",
    "# Adjusting the ['preco'] column\n",
    "natureza['preco'] = natureza['preco'].apply(lambda x: str(x).replace('R$',''))\n",
    "natureza['preco'] = natureza['preco'].apply(lambda x: str(x).replace(',','.'))"
   ]
  },
  {
   "cell_type": "code",
   "execution_count": 45,
   "metadata": {},
   "outputs": [
    {
     "name": "stderr",
     "output_type": "stream",
     "text": [
      "C:\\Users\\Dados\\anaconda3\\lib\\site-packages\\ipykernel_launcher.py:4: SettingWithCopyWarning: \n",
      "A value is trying to be set on a copy of a slice from a DataFrame.\n",
      "Try using .loc[row_indexer,col_indexer] = value instead\n",
      "\n",
      "See the caveats in the documentation: http://pandas.pydata.org/pandas-docs/stable/user_guide/indexing.html#returning-a-view-versus-a-copy\n",
      "  after removing the cwd from sys.path.\n",
      "C:\\Users\\Dados\\anaconda3\\lib\\site-packages\\ipykernel_launcher.py:6: SettingWithCopyWarning: \n",
      "A value is trying to be set on a copy of a slice from a DataFrame.\n",
      "Try using .loc[row_indexer,col_indexer] = value instead\n",
      "\n",
      "See the caveats in the documentation: http://pandas.pydata.org/pandas-docs/stable/user_guide/indexing.html#returning-a-view-versus-a-copy\n",
      "  \n",
      "C:\\Users\\Dados\\anaconda3\\lib\\site-packages\\ipykernel_launcher.py:7: SettingWithCopyWarning: \n",
      "A value is trying to be set on a copy of a slice from a DataFrame.\n",
      "Try using .loc[row_indexer,col_indexer] = value instead\n",
      "\n",
      "See the caveats in the documentation: http://pandas.pydata.org/pandas-docs/stable/user_guide/indexing.html#returning-a-view-versus-a-copy\n",
      "  import sys\n"
     ]
    }
   ],
   "source": [
    "natureza_kg = natureza.loc[natureza['unidade'].str.contains('0')]\n",
    "\n",
    "for char in [' gramas',' g','g','bandeja ']:\n",
    "    natureza_kg['unidade'] = natureza_kg['unidade'].apply(lambda x: str(x).replace(char,''))\n",
    "    \n",
    "natureza_kg['preco']   = 1000 / pd.to_numeric(natureza_kg['unidade']) * pd.to_numeric(natureza_kg['preco'])\n",
    "natureza_kg['unidade'] = 'kg'"
   ]
  },
  {
   "cell_type": "code",
   "execution_count": 46,
   "metadata": {},
   "outputs": [
    {
     "name": "stderr",
     "output_type": "stream",
     "text": [
      "C:\\Users\\Dados\\anaconda3\\lib\\site-packages\\ipykernel_launcher.py:4: SettingWithCopyWarning: \n",
      "A value is trying to be set on a copy of a slice from a DataFrame.\n",
      "Try using .loc[row_indexer,col_indexer] = value instead\n",
      "\n",
      "See the caveats in the documentation: http://pandas.pydata.org/pandas-docs/stable/user_guide/indexing.html#returning-a-view-versus-a-copy\n",
      "  after removing the cwd from sys.path.\n",
      "C:\\Users\\Dados\\anaconda3\\lib\\site-packages\\ipykernel_launcher.py:6: SettingWithCopyWarning: \n",
      "A value is trying to be set on a copy of a slice from a DataFrame.\n",
      "Try using .loc[row_indexer,col_indexer] = value instead\n",
      "\n",
      "See the caveats in the documentation: http://pandas.pydata.org/pandas-docs/stable/user_guide/indexing.html#returning-a-view-versus-a-copy\n",
      "  \n",
      "C:\\Users\\Dados\\anaconda3\\lib\\site-packages\\ipykernel_launcher.py:8: SettingWithCopyWarning: \n",
      "A value is trying to be set on a copy of a slice from a DataFrame.\n",
      "Try using .loc[row_indexer,col_indexer] = value instead\n",
      "\n",
      "See the caveats in the documentation: http://pandas.pydata.org/pandas-docs/stable/user_guide/indexing.html#returning-a-view-versus-a-copy\n",
      "  \n",
      "C:\\Users\\Dados\\anaconda3\\lib\\site-packages\\ipykernel_launcher.py:10: SettingWithCopyWarning: \n",
      "A value is trying to be set on a copy of a slice from a DataFrame.\n",
      "Try using .loc[row_indexer,col_indexer] = value instead\n",
      "\n",
      "See the caveats in the documentation: http://pandas.pydata.org/pandas-docs/stable/user_guide/indexing.html#returning-a-view-versus-a-copy\n",
      "  # Remove the CWD from sys.path while we load stuff.\n"
     ]
    }
   ],
   "source": [
    "natureza_kg_2 = natureza.loc[(natureza['unidade'].str.contains('K')) | (natureza['unidade'].str.contains('k'))]\n",
    "\n",
    "for char in ['Aprox ',' kg']:\n",
    "    natureza_kg_2['unidade'] = natureza_kg_2['unidade'].apply(lambda x: str(x).replace(char,''))\n",
    "    \n",
    "natureza_kg_2['unidade'] = natureza_kg_2['unidade'].apply(lambda x: str(x).replace(',','.'))\n",
    "\n",
    "natureza_kg_2['preco']   = 1 / pd.to_numeric(natureza_kg_2['unidade']) * pd.to_numeric(natureza_kg_2['preco'])\n",
    "    \n",
    "natureza_kg_2['unidade'] = 'kg'"
   ]
  },
  {
   "cell_type": "code",
   "execution_count": 47,
   "metadata": {},
   "outputs": [
    {
     "name": "stderr",
     "output_type": "stream",
     "text": [
      "C:\\Users\\Dados\\anaconda3\\lib\\site-packages\\ipykernel_launcher.py:3: SettingWithCopyWarning: \n",
      "A value is trying to be set on a copy of a slice from a DataFrame.\n",
      "Try using .loc[row_indexer,col_indexer] = value instead\n",
      "\n",
      "See the caveats in the documentation: http://pandas.pydata.org/pandas-docs/stable/user_guide/indexing.html#returning-a-view-versus-a-copy\n",
      "  This is separate from the ipykernel package so we can avoid doing imports until\n"
     ]
    }
   ],
   "source": [
    "natureza_unidade = natureza[(~natureza.index.isin(natureza_kg.index)) & (~natureza.index.isin(natureza_kg_2.index))]\n",
    "\n",
    "natureza_unidade['unidade'] = 'unidade'"
   ]
  },
  {
   "cell_type": "code",
   "execution_count": 48,
   "metadata": {},
   "outputs": [],
   "source": [
    "natureza_limpo = natureza_unidade.append(natureza_kg).append(natureza_kg_2)\n",
    "natureza_limpo.sort_index(inplace= True)\n",
    "natureza_limpo.to_csv('natureza.csv', index=False)"
   ]
  },
  {
   "cell_type": "markdown",
   "metadata": {},
   "source": [
    "# Oh Market"
   ]
  },
  {
   "cell_type": "code",
   "execution_count": 49,
   "metadata": {},
   "outputs": [],
   "source": [
    "market = pd.read_json(r'C:\\Users\\Dados\\Horta_Castellano\\ohmarket.json')"
   ]
  },
  {
   "cell_type": "code",
   "execution_count": 50,
   "metadata": {},
   "outputs": [],
   "source": [
    "#Remove the unwanted words\n",
    "remove = ['Orgânico','Orgânica','Organico','Organica','orgânico','orgânica','organico','organica','ORGÂNICO','ORGÂNICA','ORGANICO','ORGANICA']\n",
    "\n",
    "for word in remove:\n",
    "    market['nome']    = market.applymap(lambda x: str(x).replace(word,''))\n",
    "\n",
    "#Get the ['unidade'] column\n",
    "def find_between(s, start, end):\n",
    "    try:\n",
    "        return (s.split(start))[1].split(end)[0]\n",
    "    except:\n",
    "        return s\n",
    "\n",
    "market['unidade'] = market['nome'].apply(lambda x: find_between(x,'(',')'))\n",
    "\n",
    "#Discard the units from ['nome']\n",
    "separator = ' '\n",
    "market['nome']    = market['nome'].apply(lambda x: str(x).split(' (')[0])\n",
    "market['nome']    = market['nome'].apply(lambda x: str(x)[:-1] if str(x)[-1] == ' ' else x)\n",
    "\n",
    "# Adjusting the ['preco'] column\n",
    "market['preco'] = market['preco'].apply(lambda x: str(x).replace('R$',''))\n",
    "market['preco'] = market['preco'].apply(lambda x: str(x).replace(',','.'))"
   ]
  },
  {
   "cell_type": "code",
   "execution_count": 51,
   "metadata": {},
   "outputs": [
    {
     "name": "stderr",
     "output_type": "stream",
     "text": [
      "C:\\Users\\Dados\\anaconda3\\lib\\site-packages\\ipykernel_launcher.py:4: SettingWithCopyWarning: \n",
      "A value is trying to be set on a copy of a slice from a DataFrame.\n",
      "Try using .loc[row_indexer,col_indexer] = value instead\n",
      "\n",
      "See the caveats in the documentation: http://pandas.pydata.org/pandas-docs/stable/user_guide/indexing.html#returning-a-view-versus-a-copy\n",
      "  after removing the cwd from sys.path.\n"
     ]
    }
   ],
   "source": [
    "market_kg = market.loc[market['unidade'].str.contains('0')]\n",
    "\n",
    "for char in ['Porção de ','Cogumelo Shitake ',' – Cogills','g']:\n",
    "    market_kg['unidade'] = market_kg['unidade'].apply(lambda x: str(x).replace(char,''))\n",
    "    \n",
    "drop = market_kg.loc[market_kg['unidade'].str.contains('entre')]\n",
    "market_kg = market_kg[~market_kg.isin(drop)].dropna()  \n",
    "\n",
    "market_kg['preco']   = 1000 / pd.to_numeric(market_kg['unidade']) * pd.to_numeric(market_kg['preco'])\n",
    "market_kg['unidade'] = 'kg'"
   ]
  },
  {
   "cell_type": "code",
   "execution_count": 52,
   "metadata": {},
   "outputs": [
    {
     "name": "stderr",
     "output_type": "stream",
     "text": [
      "C:\\Users\\Dados\\anaconda3\\lib\\site-packages\\pandas\\core\\frame.py:4117: SettingWithCopyWarning: \n",
      "A value is trying to be set on a copy of a slice from a DataFrame\n",
      "\n",
      "See the caveats in the documentation: http://pandas.pydata.org/pandas-docs/stable/user_guide/indexing.html#returning-a-view-versus-a-copy\n",
      "  errors=errors,\n",
      "C:\\Users\\Dados\\anaconda3\\lib\\site-packages\\ipykernel_launcher.py:4: SettingWithCopyWarning: \n",
      "A value is trying to be set on a copy of a slice from a DataFrame.\n",
      "Try using .loc[row_indexer,col_indexer] = value instead\n",
      "\n",
      "See the caveats in the documentation: http://pandas.pydata.org/pandas-docs/stable/user_guide/indexing.html#returning-a-view-versus-a-copy\n",
      "  after removing the cwd from sys.path.\n"
     ]
    }
   ],
   "source": [
    "market_kg_2 = market.loc[(market['unidade'].str.contains('K')) | (market['unidade'].str.contains('k'))]\n",
    "\n",
    "market_kg_2.drop(48,axis=0,inplace=True)\n",
    "market_kg_2['unidade'] = 'kg'"
   ]
  },
  {
   "cell_type": "code",
   "execution_count": 53,
   "metadata": {},
   "outputs": [
    {
     "name": "stderr",
     "output_type": "stream",
     "text": [
      "C:\\Users\\Dados\\anaconda3\\lib\\site-packages\\ipykernel_launcher.py:3: SettingWithCopyWarning: \n",
      "A value is trying to be set on a copy of a slice from a DataFrame.\n",
      "Try using .loc[row_indexer,col_indexer] = value instead\n",
      "\n",
      "See the caveats in the documentation: http://pandas.pydata.org/pandas-docs/stable/user_guide/indexing.html#returning-a-view-versus-a-copy\n",
      "  This is separate from the ipykernel package so we can avoid doing imports until\n"
     ]
    }
   ],
   "source": [
    "market_unidade = market[(~market.index.isin(market_kg.index)) & (~market.index.isin(market_kg_2.index))]\n",
    "\n",
    "market_unidade['unidade'] = 'unidade'"
   ]
  },
  {
   "cell_type": "code",
   "execution_count": 54,
   "metadata": {},
   "outputs": [],
   "source": [
    "market_limpo = market_unidade.append(market_kg).append(market_kg_2)\n",
    "market_limpo.sort_index(inplace= True)\n",
    "market_limpo.to_csv('market.csv', index=False)"
   ]
  },
  {
   "cell_type": "markdown",
   "metadata": {},
   "source": [
    "# Organicos Inbox"
   ]
  },
  {
   "cell_type": "code",
   "execution_count": 55,
   "metadata": {},
   "outputs": [],
   "source": [
    "inbox = pd.read_json(r'C:\\Users\\Dados\\Horta_Castellano\\organicosinbox.json')"
   ]
  },
  {
   "cell_type": "code",
   "execution_count": 56,
   "metadata": {},
   "outputs": [],
   "source": [
    "#Remove the unwanted words\n",
    "remove = ['Orgânico','Orgânica','Organico','Organica','orgânico','orgânica','organico','organica','ORGÂNICO','ORGÂNICA','ORGANICO','ORGANICA']\n",
    "\n",
    "for word in remove:\n",
    "    inbox['nome']    = inbox.applymap(lambda x: str(x).replace(word,''))\n",
    "\n",
    "#Get the ['unidade'] column\n",
    "def find_between(s, start, end):\n",
    "    try:\n",
    "        return (s.split(start))[1].split(end)[0]\n",
    "    except:\n",
    "        return s\n",
    "\n",
    "inbox['unidade'] = inbox['nome'].apply(lambda x: find_between(x,'(',')'))\n",
    "\n",
    "#Discard the units from ['nome']\n",
    "separator = ' '\n",
    "inbox['nome']    = inbox['nome'].apply(lambda x: str(x).split(' (')[0])\n",
    "inbox['nome']    = inbox['nome'].apply(lambda x: str(x)[:-1] if str(x)[-1] == ' ' else x)\n",
    "\n",
    "# Adjusting the ['preco'] column\n",
    "inbox['preco'] = inbox['preco'].apply(lambda x: str(x).replace('R$',''))\n",
    "inbox['preco'] = inbox['preco'].apply(lambda x: str(x).replace(',','.'))"
   ]
  },
  {
   "cell_type": "code",
   "execution_count": 57,
   "metadata": {},
   "outputs": [],
   "source": [
    "drop = inbox.loc[inbox.unidade.isin([\"Molino D'Oro\",'Ecobio','750ml','Sítio do Moinho','Volkmann','200ml'])]\n",
    "inbox = inbox[~inbox.isin(drop)].dropna().reset_index(drop=True)"
   ]
  },
  {
   "cell_type": "code",
   "execution_count": 58,
   "metadata": {},
   "outputs": [
    {
     "name": "stderr",
     "output_type": "stream",
     "text": [
      "C:\\Users\\Dados\\anaconda3\\lib\\site-packages\\ipykernel_launcher.py:4: SettingWithCopyWarning: \n",
      "A value is trying to be set on a copy of a slice from a DataFrame.\n",
      "Try using .loc[row_indexer,col_indexer] = value instead\n",
      "\n",
      "See the caveats in the documentation: http://pandas.pydata.org/pandas-docs/stable/user_guide/indexing.html#returning-a-view-versus-a-copy\n",
      "  after removing the cwd from sys.path.\n",
      "C:\\Users\\Dados\\anaconda3\\lib\\site-packages\\ipykernel_launcher.py:6: SettingWithCopyWarning: \n",
      "A value is trying to be set on a copy of a slice from a DataFrame.\n",
      "Try using .loc[row_indexer,col_indexer] = value instead\n",
      "\n",
      "See the caveats in the documentation: http://pandas.pydata.org/pandas-docs/stable/user_guide/indexing.html#returning-a-view-versus-a-copy\n",
      "  \n",
      "C:\\Users\\Dados\\anaconda3\\lib\\site-packages\\ipykernel_launcher.py:7: SettingWithCopyWarning: \n",
      "A value is trying to be set on a copy of a slice from a DataFrame.\n",
      "Try using .loc[row_indexer,col_indexer] = value instead\n",
      "\n",
      "See the caveats in the documentation: http://pandas.pydata.org/pandas-docs/stable/user_guide/indexing.html#returning-a-view-versus-a-copy\n",
      "  import sys\n"
     ]
    }
   ],
   "source": [
    "inbox_kg = inbox.loc[inbox['unidade'].str.contains('0')]\n",
    "\n",
    "for char in ['Feijão Preto ','Feijão Carioca ','Feijão Vermelho ','g']:\n",
    "    inbox_kg['unidade'] = inbox_kg['unidade'].apply(lambda x: str(x).replace(char,''))\n",
    "    \n",
    "inbox_kg['preco']   = 1000 / pd.to_numeric(inbox_kg['unidade']) * pd.to_numeric(inbox_kg['preco'])\n",
    "inbox_kg['unidade'] = 'kg'"
   ]
  },
  {
   "cell_type": "code",
   "execution_count": 59,
   "metadata": {},
   "outputs": [
    {
     "name": "stderr",
     "output_type": "stream",
     "text": [
      "C:\\Users\\Dados\\anaconda3\\lib\\site-packages\\ipykernel_launcher.py:3: SettingWithCopyWarning: \n",
      "A value is trying to be set on a copy of a slice from a DataFrame.\n",
      "Try using .loc[row_indexer,col_indexer] = value instead\n",
      "\n",
      "See the caveats in the documentation: http://pandas.pydata.org/pandas-docs/stable/user_guide/indexing.html#returning-a-view-versus-a-copy\n",
      "  This is separate from the ipykernel package so we can avoid doing imports until\n"
     ]
    }
   ],
   "source": [
    "inbox_kg_2 = inbox.loc[(inbox['unidade'].str.contains('K')) | (inbox['unidade'].str.contains('k'))]\n",
    "\n",
    "inbox_kg_2['unidade'] = 'kg'"
   ]
  },
  {
   "cell_type": "code",
   "execution_count": 60,
   "metadata": {},
   "outputs": [
    {
     "name": "stderr",
     "output_type": "stream",
     "text": [
      "C:\\Users\\Dados\\anaconda3\\lib\\site-packages\\ipykernel_launcher.py:3: SettingWithCopyWarning: \n",
      "A value is trying to be set on a copy of a slice from a DataFrame.\n",
      "Try using .loc[row_indexer,col_indexer] = value instead\n",
      "\n",
      "See the caveats in the documentation: http://pandas.pydata.org/pandas-docs/stable/user_guide/indexing.html#returning-a-view-versus-a-copy\n",
      "  This is separate from the ipykernel package so we can avoid doing imports until\n"
     ]
    }
   ],
   "source": [
    "inbox_unidade = inbox[(~inbox.index.isin(inbox_kg.index)) & (~inbox.index.isin(inbox_kg_2.index))]\n",
    "\n",
    "inbox_unidade['unidade'] = 'unidade'"
   ]
  },
  {
   "cell_type": "code",
   "execution_count": 61,
   "metadata": {},
   "outputs": [],
   "source": [
    "inbox_limpo = inbox_unidade.append(inbox_kg).append(inbox_kg_2)\n",
    "inbox_limpo.sort_index(inplace= True)\n",
    "inbox_limpo.to_csv('inbox.csv', index=False)"
   ]
  },
  {
   "cell_type": "markdown",
   "metadata": {},
   "source": [
    "# Sitio Mais Saude"
   ]
  },
  {
   "cell_type": "code",
   "execution_count": 62,
   "metadata": {},
   "outputs": [],
   "source": [
    "sitio = pd.read_json(r'C:\\Users\\Dados\\Horta_Castellano\\sitiomaissaude.json')"
   ]
  },
  {
   "cell_type": "code",
   "execution_count": 63,
   "metadata": {},
   "outputs": [],
   "source": [
    "sitio = sitio.dropna(how='any').reset_index(drop=True)"
   ]
  },
  {
   "cell_type": "code",
   "execution_count": 64,
   "metadata": {},
   "outputs": [],
   "source": [
    "#Remove the unwanted words\n",
    "remove = ['Orgânico','Orgânica','Organico','Organica','orgânico','orgânica','organico','organica','ORGÂNICO','ORGÂNICA','ORGANICO','ORGANICA']\n",
    "\n",
    "for word in remove:\n",
    "    sitio['nome']    = sitio.applymap(lambda x: str(x).replace(word,''))\n",
    "\n",
    "#Get the ['unidade'] column\n",
    "def find_between(s, start, end):\n",
    "    try:\n",
    "        return (s.split(start))[1].split(end)[0]\n",
    "    except:\n",
    "        return s\n",
    "\n",
    "sitio['unidade'] = sitio['nome'].apply(lambda x: find_between(x,'(',')'))\n",
    "\n",
    "#Discard the units from ['nome']\n",
    "separator = ' '\n",
    "sitio['nome']    = sitio['nome'].apply(lambda x: str(x).split(' (')[0])\n",
    "sitio['nome']    = sitio['nome'].apply(lambda x: str(x)[:-1] if str(x)[-1] == ' ' else x)\n",
    "\n",
    "# Adjusting the ['preco'] column\n",
    "sitio['preco'] = sitio['preco'].apply(lambda x: str(x).replace('R$',''))\n",
    "sitio['preco'] = sitio['preco'].apply(lambda x: str(x).replace(',','.'))\n",
    "sitio['preco'] = sitio['preco'].apply(lambda x: str(x).split(' ')[1])"
   ]
  },
  {
   "cell_type": "code",
   "execution_count": 65,
   "metadata": {},
   "outputs": [
    {
     "name": "stderr",
     "output_type": "stream",
     "text": [
      "C:\\Users\\Dados\\anaconda3\\lib\\site-packages\\ipykernel_launcher.py:4: SettingWithCopyWarning: \n",
      "A value is trying to be set on a copy of a slice from a DataFrame.\n",
      "Try using .loc[row_indexer,col_indexer] = value instead\n",
      "\n",
      "See the caveats in the documentation: http://pandas.pydata.org/pandas-docs/stable/user_guide/indexing.html#returning-a-view-versus-a-copy\n",
      "  after removing the cwd from sys.path.\n",
      "C:\\Users\\Dados\\anaconda3\\lib\\site-packages\\ipykernel_launcher.py:6: SettingWithCopyWarning: \n",
      "A value is trying to be set on a copy of a slice from a DataFrame.\n",
      "Try using .loc[row_indexer,col_indexer] = value instead\n",
      "\n",
      "See the caveats in the documentation: http://pandas.pydata.org/pandas-docs/stable/user_guide/indexing.html#returning-a-view-versus-a-copy\n",
      "  \n",
      "C:\\Users\\Dados\\anaconda3\\lib\\site-packages\\ipykernel_launcher.py:7: SettingWithCopyWarning: \n",
      "A value is trying to be set on a copy of a slice from a DataFrame.\n",
      "Try using .loc[row_indexer,col_indexer] = value instead\n",
      "\n",
      "See the caveats in the documentation: http://pandas.pydata.org/pandas-docs/stable/user_guide/indexing.html#returning-a-view-versus-a-copy\n",
      "  import sys\n"
     ]
    }
   ],
   "source": [
    "sitio_kg = sitio.loc[sitio['unidade'].str.contains('0')]\n",
    "\n",
    "for char in ['.','+/- ','+/-','+-','gr']:\n",
    "    sitio_kg['unidade'] = sitio_kg['unidade'].apply(lambda x: str(x).replace(char,''))\n",
    "\n",
    "sitio_kg['preco']   = 1000 / pd.to_numeric(sitio_kg['unidade']) * pd.to_numeric(sitio_kg['preco'])\n",
    "sitio_kg['unidade'] = 'kg'"
   ]
  },
  {
   "cell_type": "code",
   "execution_count": 66,
   "metadata": {},
   "outputs": [
    {
     "name": "stderr",
     "output_type": "stream",
     "text": [
      "C:\\Users\\Dados\\anaconda3\\lib\\site-packages\\ipykernel_launcher.py:3: SettingWithCopyWarning: \n",
      "A value is trying to be set on a copy of a slice from a DataFrame.\n",
      "Try using .loc[row_indexer,col_indexer] = value instead\n",
      "\n",
      "See the caveats in the documentation: http://pandas.pydata.org/pandas-docs/stable/user_guide/indexing.html#returning-a-view-versus-a-copy\n",
      "  This is separate from the ipykernel package so we can avoid doing imports until\n"
     ]
    }
   ],
   "source": [
    "sitio_kg_2 = sitio.loc[(sitio['unidade'].str.contains('K')) | (sitio['unidade'].str.contains('k'))]\n",
    "\n",
    "sitio_kg_2['unidade'] = 'kg'"
   ]
  },
  {
   "cell_type": "code",
   "execution_count": 67,
   "metadata": {},
   "outputs": [
    {
     "name": "stderr",
     "output_type": "stream",
     "text": [
      "C:\\Users\\Dados\\anaconda3\\lib\\site-packages\\ipykernel_launcher.py:3: SettingWithCopyWarning: \n",
      "A value is trying to be set on a copy of a slice from a DataFrame.\n",
      "Try using .loc[row_indexer,col_indexer] = value instead\n",
      "\n",
      "See the caveats in the documentation: http://pandas.pydata.org/pandas-docs/stable/user_guide/indexing.html#returning-a-view-versus-a-copy\n",
      "  This is separate from the ipykernel package so we can avoid doing imports until\n"
     ]
    }
   ],
   "source": [
    "sitio_unidade = sitio[(~sitio.index.isin(sitio_kg.index)) & (~sitio.index.isin(sitio_kg_2.index))]\n",
    "\n",
    "sitio_unidade['unidade'] = 'unidade'"
   ]
  },
  {
   "cell_type": "code",
   "execution_count": 68,
   "metadata": {},
   "outputs": [],
   "source": [
    "sitio_limpo = sitio_unidade.append(sitio_kg).append(sitio_kg_2)\n",
    "sitio_limpo.sort_index(inplace= True)\n",
    "sitio_limpo.to_csv('sitio.csv', index=False)"
   ]
  },
  {
   "cell_type": "markdown",
   "metadata": {},
   "source": [
    "# -------------------------------------------------------------------------------------"
   ]
  },
  {
   "cell_type": "markdown",
   "metadata": {},
   "source": [
    "# Agrupando tudo em uma unica tabela"
   ]
  },
  {
   "cell_type": "markdown",
   "metadata": {},
   "source": [
    "# ----------------------------------------------------------------------------------"
   ]
  },
  {
   "cell_type": "code",
   "execution_count": 69,
   "metadata": {},
   "outputs": [],
   "source": [
    "geral_unidade = pd.DataFrame(columns=sitio_limpo.columns)\n",
    "geral_kg      = pd.DataFrame(columns=sitio_limpo.columns)\n",
    "\n",
    "\n",
    "df_lists = [balaio_limpo,boutique_limpo,casa_limpo,cesta_limpo,corregos_limpo,inbox_limpo,market_limpo,natureza_limpo,sitio_limpo,strapasson_limpo]\n",
    "\n",
    "for df in df_lists:\n",
    "    geral_unidade = pd.concat([geral_unidade,df.loc[df.unidade == 'unidade']])\n",
    "    geral_kg      = pd.concat([geral_kg,df.loc[df.unidade == 'kg']])"
   ]
  },
  {
   "cell_type": "code",
   "execution_count": 70,
   "metadata": {},
   "outputs": [],
   "source": [
    "geral_kg      = geral_kg.reset_index(drop = True).drop('unidade',axis=1)\n",
    "geral_unidade = geral_unidade.reset_index(drop = True).drop('unidade',axis=1)\n",
    "\n",
    "geral_kg['nome']      = geral_kg['nome'].str.lower()\n",
    "geral_unidade['nome'] = geral_unidade['nome'].str.lower()\n",
    "\n",
    "geral_kg['preco']      = pd.to_numeric(geral_kg['preco'])\n",
    "geral_unidade['preco'] = pd.to_numeric(geral_unidade['preco'])"
   ]
  },
  {
   "cell_type": "code",
   "execution_count": 71,
   "metadata": {},
   "outputs": [
    {
     "data": {
      "text/html": [
       "<div>\n",
       "<style scoped>\n",
       "    .dataframe tbody tr th:only-of-type {\n",
       "        vertical-align: middle;\n",
       "    }\n",
       "\n",
       "    .dataframe tbody tr th {\n",
       "        vertical-align: top;\n",
       "    }\n",
       "\n",
       "    .dataframe thead th {\n",
       "        text-align: right;\n",
       "    }\n",
       "</style>\n",
       "<table border=\"1\" class=\"dataframe\">\n",
       "  <thead>\n",
       "    <tr style=\"text-align: right;\">\n",
       "      <th></th>\n",
       "      <th>nome</th>\n",
       "      <th>preco</th>\n",
       "    </tr>\n",
       "  </thead>\n",
       "  <tbody>\n",
       "    <tr>\n",
       "      <th>0</th>\n",
       "      <td>abacaxi</td>\n",
       "      <td>11.50</td>\n",
       "    </tr>\n",
       "    <tr>\n",
       "      <th>1</th>\n",
       "      <td>couve-flor</td>\n",
       "      <td>4.95</td>\n",
       "    </tr>\n",
       "    <tr>\n",
       "      <th>2</th>\n",
       "      <td>escarola</td>\n",
       "      <td>2.70</td>\n",
       "    </tr>\n",
       "    <tr>\n",
       "      <th>3</th>\n",
       "      <td>escarola roxa</td>\n",
       "      <td>2.80</td>\n",
       "    </tr>\n",
       "    <tr>\n",
       "      <th>4</th>\n",
       "      <td>espinafre</td>\n",
       "      <td>3.50</td>\n",
       "    </tr>\n",
       "    <tr>\n",
       "      <th>...</th>\n",
       "      <td>...</td>\n",
       "      <td>...</td>\n",
       "    </tr>\n",
       "    <tr>\n",
       "      <th>272</th>\n",
       "      <td>abacaxi pérola</td>\n",
       "      <td>5.99</td>\n",
       "    </tr>\n",
       "    <tr>\n",
       "      <th>273</th>\n",
       "      <td>abacaxi havai</td>\n",
       "      <td>5.99</td>\n",
       "    </tr>\n",
       "    <tr>\n",
       "      <th>274</th>\n",
       "      <td>alface roxa hidropônica</td>\n",
       "      <td>3.99</td>\n",
       "    </tr>\n",
       "    <tr>\n",
       "      <th>275</th>\n",
       "      <td>ovos brancos</td>\n",
       "      <td>6.49</td>\n",
       "    </tr>\n",
       "    <tr>\n",
       "      <th>276</th>\n",
       "      <td>salada baby leaf</td>\n",
       "      <td>4.29</td>\n",
       "    </tr>\n",
       "  </tbody>\n",
       "</table>\n",
       "<p>277 rows × 2 columns</p>\n",
       "</div>"
      ],
      "text/plain": [
       "                        nome  preco\n",
       "0                    abacaxi  11.50\n",
       "1                 couve-flor   4.95\n",
       "2                   escarola   2.70\n",
       "3              escarola roxa   2.80\n",
       "4                  espinafre   3.50\n",
       "..                       ...    ...\n",
       "272           abacaxi pérola   5.99\n",
       "273            abacaxi havai   5.99\n",
       "274  alface roxa hidropônica   3.99\n",
       "275             ovos brancos   6.49\n",
       "276         salada baby leaf   4.29\n",
       "\n",
       "[277 rows x 2 columns]"
      ]
     },
     "execution_count": 71,
     "metadata": {},
     "output_type": "execute_result"
    }
   ],
   "source": [
    "geral_unidade"
   ]
  },
  {
   "cell_type": "code",
   "execution_count": 72,
   "metadata": {},
   "outputs": [
    {
     "data": {
      "text/html": [
       "<div>\n",
       "<style scoped>\n",
       "    .dataframe tbody tr th:only-of-type {\n",
       "        vertical-align: middle;\n",
       "    }\n",
       "\n",
       "    .dataframe tbody tr th {\n",
       "        vertical-align: top;\n",
       "    }\n",
       "\n",
       "    .dataframe thead th {\n",
       "        text-align: right;\n",
       "    }\n",
       "</style>\n",
       "<table border=\"1\" class=\"dataframe\">\n",
       "  <thead>\n",
       "    <tr style=\"text-align: right;\">\n",
       "      <th></th>\n",
       "      <th>nome</th>\n",
       "      <th>preco</th>\n",
       "    </tr>\n",
       "  </thead>\n",
       "  <tbody>\n",
       "    <tr>\n",
       "      <th>0</th>\n",
       "      <td>abacate</td>\n",
       "      <td>11.000000</td>\n",
       "    </tr>\n",
       "    <tr>\n",
       "      <th>1</th>\n",
       "      <td>banana caturra</td>\n",
       "      <td>4.166667</td>\n",
       "    </tr>\n",
       "    <tr>\n",
       "      <th>2</th>\n",
       "      <td>banana maçã</td>\n",
       "      <td>7.900000</td>\n",
       "    </tr>\n",
       "    <tr>\n",
       "      <th>3</th>\n",
       "      <td>banana ouro</td>\n",
       "      <td>6.000000</td>\n",
       "    </tr>\n",
       "    <tr>\n",
       "      <th>4</th>\n",
       "      <td>banana prata</td>\n",
       "      <td>4.900000</td>\n",
       "    </tr>\n",
       "    <tr>\n",
       "      <th>...</th>\n",
       "      <td>...</td>\n",
       "      <td>...</td>\n",
       "    </tr>\n",
       "    <tr>\n",
       "      <th>435</th>\n",
       "      <td>salada mix verde</td>\n",
       "      <td>23.960000</td>\n",
       "    </tr>\n",
       "    <tr>\n",
       "      <th>436</th>\n",
       "      <td>uva crimson</td>\n",
       "      <td>17.940000</td>\n",
       "    </tr>\n",
       "    <tr>\n",
       "      <th>437</th>\n",
       "      <td>uva thompson</td>\n",
       "      <td>17.940000</td>\n",
       "    </tr>\n",
       "    <tr>\n",
       "      <th>438</th>\n",
       "      <td>yakissoba</td>\n",
       "      <td>24.600000</td>\n",
       "    </tr>\n",
       "    <tr>\n",
       "      <th>439</th>\n",
       "      <td>yakissoba</td>\n",
       "      <td>11.650000</td>\n",
       "    </tr>\n",
       "  </tbody>\n",
       "</table>\n",
       "<p>440 rows × 2 columns</p>\n",
       "</div>"
      ],
      "text/plain": [
       "                 nome      preco\n",
       "0             abacate  11.000000\n",
       "1      banana caturra   4.166667\n",
       "2         banana maçã   7.900000\n",
       "3         banana ouro   6.000000\n",
       "4        banana prata   4.900000\n",
       "..                ...        ...\n",
       "435  salada mix verde  23.960000\n",
       "436       uva crimson  17.940000\n",
       "437      uva thompson  17.940000\n",
       "438         yakissoba  24.600000\n",
       "439         yakissoba  11.650000\n",
       "\n",
       "[440 rows x 2 columns]"
      ]
     },
     "execution_count": 72,
     "metadata": {},
     "output_type": "execute_result"
    }
   ],
   "source": [
    "geral_kg"
   ]
  },
  {
   "cell_type": "code",
   "execution_count": 73,
   "metadata": {},
   "outputs": [],
   "source": [
    "geral_unidade.to_csv('geral_unidade.csv', index=False)\n",
    "geral_kg.to_csv('geral_kg.csv', index=False)"
   ]
  },
  {
   "cell_type": "markdown",
   "metadata": {},
   "source": [
    "# Pesquisa"
   ]
  },
  {
   "cell_type": "code",
   "execution_count": 126,
   "metadata": {},
   "outputs": [
    {
     "name": "stdout",
     "output_type": "stream",
     "text": [
      "Foram encontrados 42 resultados para alface na tabela de preços por unidade\n",
      "Os resultados são:\n",
      "alface crespa                8\n",
      "alface americana             8\n",
      "alface lisa                  6\n",
      "alface roxa                  4\n",
      "alface crespa verde          3\n",
      "alface romana                3\n",
      "alface mimosa verde          2\n",
      "alface mimosa roxa           2\n",
      "alface crespa hidropônica    1\n",
      "alface roxa hidropônica      1\n",
      "alface lisa hidropônica      1\n",
      "alface crespa roxa           1\n",
      "alface mimosa                1\n",
      "alface lisa verde            1\n",
      "Name: nome, dtype: int64\n"
     ]
    },
    {
     "data": {
      "image/png": "[encoded data removed]",
      "text/plain": [
       "<Figure size 432x288 with 1 Axes>"
      ]
     },
     "metadata": {
      "needs_background": "light"
     },
     "output_type": "display_data"
    },
    {
     "name": "stdout",
     "output_type": "stream",
     "text": [
      "A média de preço é de 3.21 e a mediana é de 3.0\n",
      "Moda dos preços: 2.5\n"
     ]
    },
    {
     "data": {
      "text/html": [
       "<div>\n",
       "<style scoped>\n",
       "    .dataframe tbody tr th:only-of-type {\n",
       "        vertical-align: middle;\n",
       "    }\n",
       "\n",
       "    .dataframe tbody tr th {\n",
       "        vertical-align: top;\n",
       "    }\n",
       "\n",
       "    .dataframe thead tr th {\n",
       "        text-align: left;\n",
       "    }\n",
       "\n",
       "    .dataframe thead tr:last-of-type th {\n",
       "        text-align: right;\n",
       "    }\n",
       "</style>\n",
       "<table border=\"1\" class=\"dataframe\">\n",
       "  <thead>\n",
       "    <tr>\n",
       "      <th></th>\n",
       "      <th colspan=\"2\" halign=\"left\">preco</th>\n",
       "    </tr>\n",
       "    <tr>\n",
       "      <th></th>\n",
       "      <th>mean</th>\n",
       "      <th>median</th>\n",
       "    </tr>\n",
       "    <tr>\n",
       "      <th>nome</th>\n",
       "      <th></th>\n",
       "      <th></th>\n",
       "    </tr>\n",
       "  </thead>\n",
       "  <tbody>\n",
       "    <tr>\n",
       "      <th>alface americana</th>\n",
       "      <td>3.343750</td>\n",
       "      <td>3.250</td>\n",
       "    </tr>\n",
       "    <tr>\n",
       "      <th>alface crespa</th>\n",
       "      <td>3.148750</td>\n",
       "      <td>2.995</td>\n",
       "    </tr>\n",
       "    <tr>\n",
       "      <th>alface crespa hidropônica</th>\n",
       "      <td>3.990000</td>\n",
       "      <td>3.990</td>\n",
       "    </tr>\n",
       "    <tr>\n",
       "      <th>alface crespa roxa</th>\n",
       "      <td>2.500000</td>\n",
       "      <td>2.500</td>\n",
       "    </tr>\n",
       "    <tr>\n",
       "      <th>alface crespa verde</th>\n",
       "      <td>3.000000</td>\n",
       "      <td>2.500</td>\n",
       "    </tr>\n",
       "    <tr>\n",
       "      <th>alface lisa</th>\n",
       "      <td>3.033333</td>\n",
       "      <td>2.600</td>\n",
       "    </tr>\n",
       "    <tr>\n",
       "      <th>alface lisa hidropônica</th>\n",
       "      <td>3.990000</td>\n",
       "      <td>3.990</td>\n",
       "    </tr>\n",
       "    <tr>\n",
       "      <th>alface lisa verde</th>\n",
       "      <td>2.500000</td>\n",
       "      <td>2.500</td>\n",
       "    </tr>\n",
       "    <tr>\n",
       "      <th>alface mimosa</th>\n",
       "      <td>2.700000</td>\n",
       "      <td>2.700</td>\n",
       "    </tr>\n",
       "    <tr>\n",
       "      <th>alface mimosa roxa</th>\n",
       "      <td>3.250000</td>\n",
       "      <td>3.250</td>\n",
       "    </tr>\n",
       "    <tr>\n",
       "      <th>alface mimosa verde</th>\n",
       "      <td>2.750000</td>\n",
       "      <td>2.750</td>\n",
       "    </tr>\n",
       "    <tr>\n",
       "      <th>alface romana</th>\n",
       "      <td>3.566667</td>\n",
       "      <td>4.000</td>\n",
       "    </tr>\n",
       "    <tr>\n",
       "      <th>alface roxa</th>\n",
       "      <td>3.300000</td>\n",
       "      <td>3.350</td>\n",
       "    </tr>\n",
       "    <tr>\n",
       "      <th>alface roxa hidropônica</th>\n",
       "      <td>3.990000</td>\n",
       "      <td>3.990</td>\n",
       "    </tr>\n",
       "  </tbody>\n",
       "</table>\n",
       "</div>"
      ],
      "text/plain": [
       "                              preco       \n",
       "                               mean median\n",
       "nome                                      \n",
       "alface americana           3.343750  3.250\n",
       "alface crespa              3.148750  2.995\n",
       "alface crespa hidropônica  3.990000  3.990\n",
       "alface crespa roxa         2.500000  2.500\n",
       "alface crespa verde        3.000000  2.500\n",
       "alface lisa                3.033333  2.600\n",
       "alface lisa hidropônica    3.990000  3.990\n",
       "alface lisa verde          2.500000  2.500\n",
       "alface mimosa              2.700000  2.700\n",
       "alface mimosa roxa         3.250000  3.250\n",
       "alface mimosa verde        2.750000  2.750\n",
       "alface romana              3.566667  4.000\n",
       "alface roxa                3.300000  3.350\n",
       "alface roxa hidropônica    3.990000  3.990"
      ]
     },
     "metadata": {},
     "output_type": "display_data"
    },
    {
     "name": "stdout",
     "output_type": "stream",
     "text": [
      "\n",
      "\n",
      "===================================================================================================\n",
      "Foram encontrados 2 resultados para alface na tabela de preços por kilograma\n",
      "Os resultados são:\n",
      "coração alface americana    2\n",
      "Name: nome, dtype: int64\n"
     ]
    },
    {
     "data": {
      "image/png": "[encoded data removed]",
      "text/plain": [
       "<Figure size 432x288 with 1 Axes>"
      ]
     },
     "metadata": {
      "needs_background": "light"
     },
     "output_type": "display_data"
    },
    {
     "name": "stdout",
     "output_type": "stream",
     "text": [
      "A média de preço é de 22.12 e a mediana é de 22.12\n",
      "Moda dos preços: 17.63\n"
     ]
    },
    {
     "data": {
      "text/html": [
       "<div>\n",
       "<style scoped>\n",
       "    .dataframe tbody tr th:only-of-type {\n",
       "        vertical-align: middle;\n",
       "    }\n",
       "\n",
       "    .dataframe tbody tr th {\n",
       "        vertical-align: top;\n",
       "    }\n",
       "\n",
       "    .dataframe thead tr th {\n",
       "        text-align: left;\n",
       "    }\n",
       "\n",
       "    .dataframe thead tr:last-of-type th {\n",
       "        text-align: right;\n",
       "    }\n",
       "</style>\n",
       "<table border=\"1\" class=\"dataframe\">\n",
       "  <thead>\n",
       "    <tr>\n",
       "      <th></th>\n",
       "      <th colspan=\"2\" halign=\"left\">preco</th>\n",
       "    </tr>\n",
       "    <tr>\n",
       "      <th></th>\n",
       "      <th>mean</th>\n",
       "      <th>median</th>\n",
       "    </tr>\n",
       "    <tr>\n",
       "      <th>nome</th>\n",
       "      <th></th>\n",
       "      <th></th>\n",
       "    </tr>\n",
       "  </thead>\n",
       "  <tbody>\n",
       "    <tr>\n",
       "      <th>coração alface americana</th>\n",
       "      <td>22.116667</td>\n",
       "      <td>22.116667</td>\n",
       "    </tr>\n",
       "  </tbody>\n",
       "</table>\n",
       "</div>"
      ],
      "text/plain": [
       "                              preco           \n",
       "                               mean     median\n",
       "nome                                          \n",
       "coração alface americana  22.116667  22.116667"
      ]
     },
     "metadata": {},
     "output_type": "display_data"
    }
   ],
   "source": [
    "pesquisar_por = 'alface'\n",
    "\n",
    "unidade = geral_unidade[geral_unidade.nome.str.contains(pesquisar_por)]\n",
    "\n",
    "kg = geral_kg[geral_kg.nome.str.contains(pesquisar_por)]\n",
    "\n",
    "print(f'Foram encontrados {len(unidade)} resultados para {pesquisar_por} na tabela de preços por unidade')\n",
    "print('Os resultados são:')\n",
    "pprint(unidade.nome.value_counts())\n",
    "sns.distplot(unidade.preco, vertical = True, bins=10)\n",
    "plt.title('Distribuição de preços por unidade')\n",
    "plt.ylim(unidade.preco.min()-0.5,unidade.preco.max()+0.5)\n",
    "plt.show()\n",
    "print(f'A média de preço é de {round(unidade.preco.mean(),2)} e a mediana é de {round(unidade.preco.median(),2)}')\n",
    "print(\"Moda dos preços:\",round(unidade.preco.mode()[0],2))\n",
    "display(unidade.groupby('nome').agg([np.mean,np.median]))\n",
    "\n",
    "print('\\n')\n",
    "print('===================================================================================================')\n",
    "print(f'Foram encontrados {len(kg)} resultados para {pesquisar_por} na tabela de preços por kilograma')\n",
    "print('Os resultados são:')\n",
    "pprint(kg.nome.value_counts())\n",
    "sns.distplot(kg.preco, vertical = True, bins=10)\n",
    "plt.title('Distribuição de preços por kg')\n",
    "plt.ylim(kg.preco.min()-0.5,kg.preco.max()+0.5)\n",
    "plt.show()\n",
    "print(f'A média de preço é de {round(kg.preco.mean(),2)} e a mediana é de {round(kg.preco.median(),2)}')\n",
    "print(\"Moda dos preços:\",round(kg.preco.mode()[0],2))\n",
    "display(kg.groupby('nome').agg([np.mean,np.median]))"
   ]
  },
  {
   "cell_type": "code",
   "execution_count": null,
   "metadata": {},
   "outputs": [],
   "source": []
  }
 ],
 "metadata": {
  "kernelspec": {
   "display_name": "Python 3",
   "language": "python",
   "name": "python3"
  },
  "language_info": {
   "codemirror_mode": {
    "name": "ipython",
    "version": 3
   },
   "file_extension": ".py",
   "mimetype": "text/x-python",
   "name": "python",
   "nbconvert_exporter": "python",
   "pygments_lexer": "ipython3",
   "version": "3.7.6"
  }
 },
 "nbformat": 4,
 "nbformat_minor": 4
}
